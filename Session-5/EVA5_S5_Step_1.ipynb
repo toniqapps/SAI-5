{
  "nbformat": 4,
  "nbformat_minor": 0,
  "metadata": {
    "colab": {
      "name": "EVA5_S5_Step_1.ipynb",
      "provenance": []
    },
    "kernelspec": {
      "name": "python3",
      "display_name": "Python 3"
    },
    "accelerator": "GPU"
  },
  "cells": [
    {
      "cell_type": "markdown",
      "metadata": {
        "id": "hFBFWVKMpA8t",
        "colab_type": "text"
      },
      "source": [
        "<b>Target :</b> \n",
        "```1. Design a basic network with any parameters ```\n",
        "\n",
        "```2. Reduce the parameteres <= target parameters```"
      ]
    },
    {
      "cell_type": "code",
      "metadata": {
        "id": "3oPOKzmV5iQ7",
        "colab_type": "code",
        "colab": {
          "base_uri": "https://localhost:8080/",
          "height": 34
        },
        "outputId": "d639819b-a063-4f60-87c2-0ab5770d80e0"
      },
      "source": [
        "!pip install torchsummary\n",
        "from __future__ import print_function\n",
        "import torch\n",
        "import torch.nn as nn\n",
        "import torch.nn.functional as F\n",
        "import torch.optim as optim\n",
        "from torchvision import datasets, transforms\n",
        "from torchsummary import summary\n",
        "import matplotlib.pyplot as plt\n",
        "from torch.optim.lr_scheduler import StepLR"
      ],
      "execution_count": 8,
      "outputs": [
        {
          "output_type": "stream",
          "text": [
            "Requirement already satisfied: torchsummary in /usr/local/lib/python3.6/dist-packages (1.5.1)\n"
          ],
          "name": "stdout"
        }
      ]
    },
    {
      "cell_type": "code",
      "metadata": {
        "id": "r0wH6y__7AG1",
        "colab_type": "code",
        "colab": {}
      },
      "source": [
        "# Train Phase transformations\n",
        "train_transforms = transforms.Compose([\n",
        "                                       transforms.ToTensor(),\n",
        "                                       transforms.Normalize((0.1307,), (0.3081,))\n",
        "                                       ])\n",
        "\n",
        "# Test Phase transformations\n",
        "test_transforms = transforms.Compose([\n",
        "                                       transforms.ToTensor(),\n",
        "                                       transforms.Normalize((0.1307,), (0.3081,))\n",
        "                                       ])"
      ],
      "execution_count": 9,
      "outputs": []
    },
    {
      "cell_type": "code",
      "metadata": {
        "id": "uKi8T1hu7Ejv",
        "colab_type": "code",
        "colab": {}
      },
      "source": [
        "train = datasets.MNIST('./data', train=True, download=True, transform=train_transforms)\n",
        "test = datasets.MNIST('./data', train=False, download=True, transform=test_transforms)"
      ],
      "execution_count": 10,
      "outputs": []
    },
    {
      "cell_type": "code",
      "metadata": {
        "id": "xwWdstnI7I-O",
        "colab_type": "code",
        "colab": {
          "base_uri": "https://localhost:8080/",
          "height": 34
        },
        "outputId": "a4193832-2e9e-4030-8507-1c8e6192a4b3"
      },
      "source": [
        "SEED = 1\n",
        "\n",
        "# CUDA?\n",
        "cuda = torch.cuda.is_available()\n",
        "print(\"CUDA Available?\", cuda)\n",
        "\n",
        "# For reproducibility\n",
        "torch.manual_seed(SEED)\n",
        "\n",
        "if cuda:\n",
        "    torch.cuda.manual_seed(SEED)\n",
        "\n",
        "# dataloader arguments - something you'll fetch these from cmdprmt\n",
        "dataloader_args = dict(shuffle=True, batch_size=128, num_workers=4, pin_memory=True) if cuda else dict(shuffle=True, batch_size=64)\n",
        "\n",
        "# train dataloader\n",
        "train_loader = torch.utils.data.DataLoader(train, **dataloader_args)\n",
        "\n",
        "# test dataloader\n",
        "test_loader = torch.utils.data.DataLoader(test, **dataloader_args)"
      ],
      "execution_count": 11,
      "outputs": [
        {
          "output_type": "stream",
          "text": [
            "CUDA Available? True\n"
          ],
          "name": "stdout"
        }
      ]
    },
    {
      "cell_type": "code",
      "metadata": {
        "id": "hczObu9wkU7i",
        "colab_type": "code",
        "colab": {
          "base_uri": "https://localhost:8080/",
          "height": 34
        },
        "outputId": "e7ab6fad-59a9-424c-f814-66f0a509fa3d"
      },
      "source": [
        "use_cuda = torch.cuda.is_available()\n",
        "device = torch.device(\"cuda\" if use_cuda else \"cpu\")\n",
        "print(device)\n",
        "\n",
        "def model_summary():\n",
        "  model = Net().to(device)\n",
        "  summary(model, input_size=(1, 28, 28))"
      ],
      "execution_count": 12,
      "outputs": [
        {
          "output_type": "stream",
          "text": [
            "cuda\n"
          ],
          "name": "stdout"
        }
      ]
    },
    {
      "cell_type": "code",
      "metadata": {
        "id": "rrooOPXmATA_",
        "colab_type": "code",
        "colab": {}
      },
      "source": [
        "from tqdm import tqdm\n",
        "\n",
        "train_losses = []\n",
        "test_losses = []\n",
        "train_acc = []\n",
        "test_acc = []\n",
        "\n",
        "def train(model, device, train_loader, optimizer, epoch):\n",
        "  model.train()\n",
        "  pbar = tqdm(train_loader)\n",
        "  correct = 0\n",
        "  processed = 0\n",
        "  for batch_idx, (data, target) in enumerate(pbar):\n",
        "    # get samples\n",
        "    data, target = data.to(device), target.to(device)\n",
        "\n",
        "    # Init\n",
        "    optimizer.zero_grad()\n",
        "    # In PyTorch, we need to set the gradients to zero before starting to do backpropragation because PyTorch accumulates the gradients on subsequent backward passes. \n",
        "    # Because of this, when you start your training loop, ideally you should zero out the gradients so that you do the parameter update correctly.\n",
        "\n",
        "    # Predict\n",
        "    y_pred = model(data)\n",
        "\n",
        "    # Calculate loss\n",
        "    loss = F.nll_loss(y_pred, target)\n",
        "    train_losses.append(loss)\n",
        "\n",
        "    # Backpropagation\n",
        "    loss.backward()\n",
        "    optimizer.step()\n",
        "\n",
        "    # Update pbar-tqdm\n",
        "    \n",
        "    pred = y_pred.argmax(dim=1, keepdim=True)  # get the index of the max log-probability\n",
        "    correct += pred.eq(target.view_as(pred)).sum().item()\n",
        "    processed += len(data)\n",
        "\n",
        "    pbar.set_description(desc= f'Loss={loss.item()} Batch_id={batch_idx} Accuracy={100*correct/processed:0.2f}')\n",
        "    train_acc.append(100*correct/processed)\n",
        "\n",
        "def test(model, device, test_loader):\n",
        "    model.eval()\n",
        "    test_loss = 0\n",
        "    correct = 0\n",
        "    with torch.no_grad():\n",
        "        for data, target in test_loader:\n",
        "            data, target = data.to(device), target.to(device)\n",
        "            output = model(data)\n",
        "            test_loss += F.nll_loss(output, target, reduction='sum').item()  # sum up batch loss\n",
        "            pred = output.argmax(dim=1, keepdim=True)  # get the index of the max log-probability\n",
        "            correct += pred.eq(target.view_as(pred)).sum().item()\n",
        "\n",
        "    test_loss /= len(test_loader.dataset)\n",
        "    test_losses.append(test_loss)\n",
        "\n",
        "    print('\\nTest set: Average loss: {:.4f}, Accuracy: {}/{} ({:.2f}%)\\n'.format(\n",
        "        test_loss, correct, len(test_loader.dataset),\n",
        "        100. * correct / len(test_loader.dataset)))\n",
        "    \n",
        "    test_acc.append(100. * correct / len(test_loader.dataset))"
      ],
      "execution_count": 13,
      "outputs": []
    },
    {
      "cell_type": "code",
      "metadata": {
        "id": "7e49m525lVc6",
        "colab_type": "code",
        "colab": {}
      },
      "source": [
        "def plot_result():\n",
        "  fig, axs = plt.subplots(2,2,figsize=(15,10))\n",
        "  axs[0, 0].plot(train_losses)\n",
        "  axs[0, 0].set_title(\"Training Loss\")\n",
        "  axs[1, 0].plot(train_acc)\n",
        "  axs[1, 0].set_title(\"Training Accuracy\")\n",
        "  axs[0, 1].plot(test_losses)\n",
        "  axs[0, 1].set_title(\"Test Loss\")\n",
        "  axs[1, 1].plot(test_acc)\n",
        "  axs[1, 1].set_title(\"Test Accuracy\")"
      ],
      "execution_count": 14,
      "outputs": []
    },
    {
      "cell_type": "code",
      "metadata": {
        "id": "ByGmD3PK2mqm",
        "colab_type": "code",
        "colab": {
          "base_uri": "https://localhost:8080/",
          "height": 493
        },
        "outputId": "78ddf3a9-00a1-4fa8-8607-8c0800f83607"
      },
      "source": [
        "class Net(nn.Module):\n",
        "\n",
        "    def conv_block (self, in_channels, out_channels, kernel_size, padding = 1) :\n",
        "      return nn.Sequential(\n",
        "            nn.Conv2d (in_channels = in_channels, out_channels = out_channels, kernel_size = kernel_size, padding = padding, bias = False),\n",
        "            nn.ReLU())\n",
        "        \n",
        "    def out_block(self, in_channels, kernel_size = 1):\n",
        "      return nn.Sequential(\n",
        "        nn.Conv2d(in_channels=in_channels, out_channels=10, kernel_size = kernel_size, padding = 0, bias = False))\n",
        "\n",
        "\n",
        "    def __init__(self):\n",
        "        super(Net, self).__init__()\n",
        "        self.conv1 = self.conv_block(1, 32, 3)\n",
        "        self.conv2 = self.conv_block(32, 32, 3, 0)\n",
        "        self.conv3 = self.conv_block(32, 32, 3)\n",
        "        self.conv4 = self.conv_block(32, 32, 3, 0)\n",
        "        self.conv5 = self.conv_block(32, 32, 3)\n",
        "        self.conv6 = self.conv_block(32, 32, 3, 0)\n",
        "        self.conv7 = self.out_block(32, 3)\n",
        "        self.pool = nn.MaxPool2d(2, 2)\n",
        "        \n",
        "\n",
        "    def forward(self, x):\n",
        "        x = self.conv1(x)\n",
        "        x = self.conv2(x)\n",
        "        x = self.pool(x)\n",
        "        x = self.conv3(x)\n",
        "        x = self.conv4(x)\n",
        "        x = self.pool(x)\n",
        "        x = self.conv5(x)\n",
        "        x = self.conv6(x)\n",
        "        x = self.conv7(x)\n",
        "        x = x.view(-1, 10)\n",
        "        return F.log_softmax(x, dim=-1)\n",
        "\n",
        "model_summary()"
      ],
      "execution_count": 15,
      "outputs": [
        {
          "output_type": "stream",
          "text": [
            "----------------------------------------------------------------\n",
            "        Layer (type)               Output Shape         Param #\n",
            "================================================================\n",
            "            Conv2d-1           [-1, 32, 28, 28]             288\n",
            "              ReLU-2           [-1, 32, 28, 28]               0\n",
            "            Conv2d-3           [-1, 32, 26, 26]           9,216\n",
            "              ReLU-4           [-1, 32, 26, 26]               0\n",
            "         MaxPool2d-5           [-1, 32, 13, 13]               0\n",
            "            Conv2d-6           [-1, 32, 13, 13]           9,216\n",
            "              ReLU-7           [-1, 32, 13, 13]               0\n",
            "            Conv2d-8           [-1, 32, 11, 11]           9,216\n",
            "              ReLU-9           [-1, 32, 11, 11]               0\n",
            "        MaxPool2d-10             [-1, 32, 5, 5]               0\n",
            "           Conv2d-11             [-1, 32, 5, 5]           9,216\n",
            "             ReLU-12             [-1, 32, 5, 5]               0\n",
            "           Conv2d-13             [-1, 32, 3, 3]           9,216\n",
            "             ReLU-14             [-1, 32, 3, 3]               0\n",
            "           Conv2d-15             [-1, 10, 1, 1]           2,880\n",
            "================================================================\n",
            "Total params: 49,248\n",
            "Trainable params: 49,248\n",
            "Non-trainable params: 0\n",
            "----------------------------------------------------------------\n",
            "Input size (MB): 0.00\n",
            "Forward/backward pass size (MB): 0.92\n",
            "Params size (MB): 0.19\n",
            "Estimated Total Size (MB): 1.11\n",
            "----------------------------------------------------------------\n"
          ],
          "name": "stdout"
        }
      ]
    },
    {
      "cell_type": "code",
      "metadata": {
        "id": "knRf98M4AWBd",
        "colab_type": "code",
        "colab": {
          "base_uri": "https://localhost:8080/",
          "height": 1000
        },
        "outputId": "35c7a928-2e4d-462d-eeaf-b7893c2e5f2d"
      },
      "source": [
        "model =  Net().to(device)\n",
        "optimizer = optim.SGD(model.parameters(), lr=0.01, momentum=0.9)\n",
        "EPOCHS = 15\n",
        "for epoch in range(EPOCHS):\n",
        "    print(\"EPOCH:\", epoch)\n",
        "    train(model, device, train_loader, optimizer, epoch)\n",
        "    test(model, device, test_loader)\n",
        "\n",
        "plot_result()"
      ],
      "execution_count": 16,
      "outputs": [
        {
          "output_type": "stream",
          "text": [
            "\r  0%|          | 0/469 [00:00<?, ?it/s]"
          ],
          "name": "stderr"
        },
        {
          "output_type": "stream",
          "text": [
            "EPOCH: 0\n"
          ],
          "name": "stdout"
        },
        {
          "output_type": "stream",
          "text": [
            "Loss=0.13373522460460663 Batch_id=468 Accuracy=73.78: 100%|██████████| 469/469 [00:11<00:00, 40.70it/s]\n",
            "  0%|          | 0/469 [00:00<?, ?it/s]"
          ],
          "name": "stderr"
        },
        {
          "output_type": "stream",
          "text": [
            "\n",
            "Test set: Average loss: 0.1146, Accuracy: 9623/10000 (96.23%)\n",
            "\n",
            "EPOCH: 1\n"
          ],
          "name": "stdout"
        },
        {
          "output_type": "stream",
          "text": [
            "Loss=0.23487581312656403 Batch_id=468 Accuracy=97.08: 100%|██████████| 469/469 [00:11<00:00, 40.60it/s]\n",
            "  0%|          | 0/469 [00:00<?, ?it/s]"
          ],
          "name": "stderr"
        },
        {
          "output_type": "stream",
          "text": [
            "\n",
            "Test set: Average loss: 0.0565, Accuracy: 9825/10000 (98.25%)\n",
            "\n",
            "EPOCH: 2\n"
          ],
          "name": "stdout"
        },
        {
          "output_type": "stream",
          "text": [
            "Loss=0.08921872824430466 Batch_id=468 Accuracy=98.13: 100%|██████████| 469/469 [00:11<00:00, 40.49it/s]\n",
            "  0%|          | 0/469 [00:00<?, ?it/s]"
          ],
          "name": "stderr"
        },
        {
          "output_type": "stream",
          "text": [
            "\n",
            "Test set: Average loss: 0.0600, Accuracy: 9802/10000 (98.02%)\n",
            "\n",
            "EPOCH: 3\n"
          ],
          "name": "stdout"
        },
        {
          "output_type": "stream",
          "text": [
            "Loss=0.024807395413517952 Batch_id=468 Accuracy=98.50: 100%|██████████| 469/469 [00:11<00:00, 42.62it/s]\n",
            "  0%|          | 0/469 [00:00<?, ?it/s]"
          ],
          "name": "stderr"
        },
        {
          "output_type": "stream",
          "text": [
            "\n",
            "Test set: Average loss: 0.0393, Accuracy: 9860/10000 (98.60%)\n",
            "\n",
            "EPOCH: 4\n"
          ],
          "name": "stdout"
        },
        {
          "output_type": "stream",
          "text": [
            "Loss=0.008298767730593681 Batch_id=468 Accuracy=98.80: 100%|██████████| 469/469 [00:11<00:00, 41.41it/s]\n",
            "  0%|          | 0/469 [00:00<?, ?it/s]"
          ],
          "name": "stderr"
        },
        {
          "output_type": "stream",
          "text": [
            "\n",
            "Test set: Average loss: 0.0332, Accuracy: 9879/10000 (98.79%)\n",
            "\n",
            "EPOCH: 5\n"
          ],
          "name": "stdout"
        },
        {
          "output_type": "stream",
          "text": [
            "Loss=0.01699884794652462 Batch_id=468 Accuracy=98.95: 100%|██████████| 469/469 [00:11<00:00, 41.20it/s]\n",
            "  0%|          | 0/469 [00:00<?, ?it/s]"
          ],
          "name": "stderr"
        },
        {
          "output_type": "stream",
          "text": [
            "\n",
            "Test set: Average loss: 0.0379, Accuracy: 9873/10000 (98.73%)\n",
            "\n",
            "EPOCH: 6\n"
          ],
          "name": "stdout"
        },
        {
          "output_type": "stream",
          "text": [
            "Loss=0.047340113669633865 Batch_id=468 Accuracy=99.06: 100%|██████████| 469/469 [00:11<00:00, 40.50it/s]\n",
            "  0%|          | 0/469 [00:00<?, ?it/s]"
          ],
          "name": "stderr"
        },
        {
          "output_type": "stream",
          "text": [
            "\n",
            "Test set: Average loss: 0.0406, Accuracy: 9885/10000 (98.85%)\n",
            "\n",
            "EPOCH: 7\n"
          ],
          "name": "stdout"
        },
        {
          "output_type": "stream",
          "text": [
            "Loss=0.037268415093421936 Batch_id=468 Accuracy=99.15: 100%|██████████| 469/469 [00:11<00:00, 41.58it/s]\n",
            "  0%|          | 0/469 [00:00<?, ?it/s]"
          ],
          "name": "stderr"
        },
        {
          "output_type": "stream",
          "text": [
            "\n",
            "Test set: Average loss: 0.0326, Accuracy: 9885/10000 (98.85%)\n",
            "\n",
            "EPOCH: 8\n"
          ],
          "name": "stdout"
        },
        {
          "output_type": "stream",
          "text": [
            "Loss=0.00978067796677351 Batch_id=468 Accuracy=99.31: 100%|██████████| 469/469 [00:11<00:00, 40.29it/s]\n",
            "  0%|          | 0/469 [00:00<?, ?it/s]"
          ],
          "name": "stderr"
        },
        {
          "output_type": "stream",
          "text": [
            "\n",
            "Test set: Average loss: 0.0318, Accuracy: 9891/10000 (98.91%)\n",
            "\n",
            "EPOCH: 9\n"
          ],
          "name": "stdout"
        },
        {
          "output_type": "stream",
          "text": [
            "Loss=0.014581348747015 Batch_id=468 Accuracy=99.35: 100%|██████████| 469/469 [00:11<00:00, 40.75it/s]\n",
            "  0%|          | 0/469 [00:00<?, ?it/s]"
          ],
          "name": "stderr"
        },
        {
          "output_type": "stream",
          "text": [
            "\n",
            "Test set: Average loss: 0.0359, Accuracy: 9876/10000 (98.76%)\n",
            "\n",
            "EPOCH: 10\n"
          ],
          "name": "stdout"
        },
        {
          "output_type": "stream",
          "text": [
            "Loss=0.031410057097673416 Batch_id=468 Accuracy=99.42: 100%|██████████| 469/469 [00:11<00:00, 40.83it/s]\n",
            "  0%|          | 0/469 [00:00<?, ?it/s]"
          ],
          "name": "stderr"
        },
        {
          "output_type": "stream",
          "text": [
            "\n",
            "Test set: Average loss: 0.0317, Accuracy: 9899/10000 (98.99%)\n",
            "\n",
            "EPOCH: 11\n"
          ],
          "name": "stdout"
        },
        {
          "output_type": "stream",
          "text": [
            "Loss=8.422045357292518e-05 Batch_id=468 Accuracy=99.47: 100%|██████████| 469/469 [00:11<00:00, 40.96it/s]\n",
            "  0%|          | 0/469 [00:00<?, ?it/s]"
          ],
          "name": "stderr"
        },
        {
          "output_type": "stream",
          "text": [
            "\n",
            "Test set: Average loss: 0.0336, Accuracy: 9893/10000 (98.93%)\n",
            "\n",
            "EPOCH: 12\n"
          ],
          "name": "stdout"
        },
        {
          "output_type": "stream",
          "text": [
            "Loss=0.005058798938989639 Batch_id=468 Accuracy=99.50: 100%|██████████| 469/469 [00:11<00:00, 41.35it/s]\n",
            "  0%|          | 0/469 [00:00<?, ?it/s]"
          ],
          "name": "stderr"
        },
        {
          "output_type": "stream",
          "text": [
            "\n",
            "Test set: Average loss: 0.0320, Accuracy: 9903/10000 (99.03%)\n",
            "\n",
            "EPOCH: 13\n"
          ],
          "name": "stdout"
        },
        {
          "output_type": "stream",
          "text": [
            "Loss=0.000932771188672632 Batch_id=468 Accuracy=99.61: 100%|██████████| 469/469 [00:11<00:00, 40.82it/s]\n",
            "  0%|          | 0/469 [00:00<?, ?it/s]"
          ],
          "name": "stderr"
        },
        {
          "output_type": "stream",
          "text": [
            "\n",
            "Test set: Average loss: 0.0305, Accuracy: 9907/10000 (99.07%)\n",
            "\n",
            "EPOCH: 14\n"
          ],
          "name": "stdout"
        },
        {
          "output_type": "stream",
          "text": [
            "Loss=0.01354131381958723 Batch_id=468 Accuracy=99.58: 100%|██████████| 469/469 [00:11<00:00, 41.35it/s]\n"
          ],
          "name": "stderr"
        },
        {
          "output_type": "stream",
          "text": [
            "\n",
            "Test set: Average loss: 0.0278, Accuracy: 9916/10000 (99.16%)\n",
            "\n"
          ],
          "name": "stdout"
        },
        {
          "output_type": "display_data",
          "data": {
            "image/png": "[encoded data removed]",
            "text/plain": [
              "<Figure size 1080x720 with 4 Axes>"
            ]
          },
          "metadata": {
            "tags": [],
            "needs_background": "light"
          }
        }
      ]
    },
    {
      "cell_type": "markdown",
      "metadata": {
        "id": "Aysd5Ig3kHgg",
        "colab_type": "text"
      },
      "source": [
        "## Results:\n",
        "\n",
        "<b>Parameters:</b> 49,248\n",
        "\n",
        "<b>Best Train Accuracy:</b> 99.61\n",
        "\n",
        "<b>Best Test Accuracy:</b> 99.16\n",
        "\n",
        "<b>Analysis:</b>\n",
        "The model parameters exceeds the required target and based on the training and test result we can see that the network is overfitting but still we can acheive the required target, let us try to reduce the parameters to the maximum"
      ]
    },
    {
      "cell_type": "code",
      "metadata": {
        "id": "YEkp2d6q867f",
        "colab_type": "code",
        "colab": {
          "base_uri": "https://localhost:8080/",
          "height": 493
        },
        "outputId": "52396f78-f8eb-41da-ac61-2a39201ec99a"
      },
      "source": [
        "class Net(nn.Module):\n",
        "\n",
        "    def conv_block (self, in_channels, out_channels, kernel_size, padding = 1) :\n",
        "      return nn.Sequential(\n",
        "            nn.Conv2d (in_channels = in_channels, out_channels = out_channels, kernel_size = kernel_size, padding = padding, bias = False),\n",
        "            nn.ReLU())\n",
        "        \n",
        "    def out_block(self, in_channels, kernel_size = 1):\n",
        "      return nn.Sequential(\n",
        "        nn.Conv2d(in_channels=in_channels, out_channels=10, kernel_size = kernel_size, padding = 0, bias = False))\n",
        "\n",
        "\n",
        "    def __init__(self):\n",
        "      super(Net, self).__init__()\n",
        "      self.conv1 = self.conv_block(1, 10, 3)\n",
        "      self.conv2 = self.conv_block(10, 10, 3, 0)\n",
        "      self.conv3 = self.conv_block(10, 11, 3)\n",
        "      self.conv4 = self.conv_block(11, 11, 3, 0)\n",
        "      self.conv5 = self.conv_block(11, 12, 3)\n",
        "      self.conv6 = self.conv_block(12, 12, 3, 0)\n",
        "      self.conv7 = self.out_block(12, 3)\n",
        "      self.pool = nn.MaxPool2d(2, 2)\n",
        "        \n",
        "\n",
        "    def forward(self, x):\n",
        "        x = self.conv1(x)\n",
        "        x = self.conv2(x)\n",
        "        x = self.pool(x)\n",
        "        x = self.conv3(x)\n",
        "        x = self.conv4(x)\n",
        "        x = self.pool(x)\n",
        "        x = self.conv5(x)\n",
        "        x = self.conv6(x)\n",
        "        x = self.conv7(x)\n",
        "        x = x.view(-1, 10)\n",
        "        return F.log_softmax(x, dim=-1)\n",
        "\n",
        "model_summary()"
      ],
      "execution_count": 19,
      "outputs": [
        {
          "output_type": "stream",
          "text": [
            "----------------------------------------------------------------\n",
            "        Layer (type)               Output Shape         Param #\n",
            "================================================================\n",
            "            Conv2d-1           [-1, 10, 28, 28]              90\n",
            "              ReLU-2           [-1, 10, 28, 28]               0\n",
            "            Conv2d-3           [-1, 10, 26, 26]             900\n",
            "              ReLU-4           [-1, 10, 26, 26]               0\n",
            "         MaxPool2d-5           [-1, 10, 13, 13]               0\n",
            "            Conv2d-6           [-1, 11, 13, 13]             990\n",
            "              ReLU-7           [-1, 11, 13, 13]               0\n",
            "            Conv2d-8           [-1, 11, 11, 11]           1,089\n",
            "              ReLU-9           [-1, 11, 11, 11]               0\n",
            "        MaxPool2d-10             [-1, 11, 5, 5]               0\n",
            "           Conv2d-11             [-1, 12, 5, 5]           1,188\n",
            "             ReLU-12             [-1, 12, 5, 5]               0\n",
            "           Conv2d-13             [-1, 12, 3, 3]           1,296\n",
            "             ReLU-14             [-1, 12, 3, 3]               0\n",
            "           Conv2d-15             [-1, 10, 1, 1]           1,080\n",
            "================================================================\n",
            "Total params: 6,633\n",
            "Trainable params: 6,633\n",
            "Non-trainable params: 0\n",
            "----------------------------------------------------------------\n",
            "Input size (MB): 0.00\n",
            "Forward/backward pass size (MB): 0.29\n",
            "Params size (MB): 0.03\n",
            "Estimated Total Size (MB): 0.32\n",
            "----------------------------------------------------------------\n"
          ],
          "name": "stdout"
        }
      ]
    },
    {
      "cell_type": "code",
      "metadata": {
        "id": "_N_dxLWj88rd",
        "colab_type": "code",
        "colab": {
          "base_uri": "https://localhost:8080/",
          "height": 1000
        },
        "outputId": "6e60137b-2974-43f9-aa70-db6b5935c091"
      },
      "source": [
        "model =  Net().to(device)\n",
        "optimizer = optim.SGD(model.parameters(), lr=0.01, momentum=0.9)\n",
        "EPOCHS = 15\n",
        "for epoch in range(EPOCHS):\n",
        "    print(\"EPOCH:\", epoch)\n",
        "    train(model, device, train_loader, optimizer, epoch)\n",
        "    test(model, device, test_loader)\n",
        "\n",
        "plot_result()"
      ],
      "execution_count": 20,
      "outputs": [
        {
          "output_type": "stream",
          "text": [
            "\r  0%|          | 0/469 [00:00<?, ?it/s]"
          ],
          "name": "stderr"
        },
        {
          "output_type": "stream",
          "text": [
            "EPOCH: 0\n"
          ],
          "name": "stdout"
        },
        {
          "output_type": "stream",
          "text": [
            "Loss=0.21004505455493927 Batch_id=468 Accuracy=36.01: 100%|██████████| 469/469 [00:11<00:00, 41.57it/s]\n",
            "  0%|          | 0/469 [00:00<?, ?it/s]"
          ],
          "name": "stderr"
        },
        {
          "output_type": "stream",
          "text": [
            "\n",
            "Test set: Average loss: 0.2218, Accuracy: 9286/10000 (92.86%)\n",
            "\n",
            "EPOCH: 1\n"
          ],
          "name": "stdout"
        },
        {
          "output_type": "stream",
          "text": [
            "Loss=0.17312538623809814 Batch_id=468 Accuracy=95.36: 100%|██████████| 469/469 [00:11<00:00, 41.93it/s]\n",
            "  0%|          | 0/469 [00:00<?, ?it/s]"
          ],
          "name": "stderr"
        },
        {
          "output_type": "stream",
          "text": [
            "\n",
            "Test set: Average loss: 0.1048, Accuracy: 9661/10000 (96.61%)\n",
            "\n",
            "EPOCH: 2\n"
          ],
          "name": "stdout"
        },
        {
          "output_type": "stream",
          "text": [
            "Loss=0.07650766521692276 Batch_id=468 Accuracy=97.35: 100%|██████████| 469/469 [00:11<00:00, 42.36it/s]\n",
            "  0%|          | 0/469 [00:00<?, ?it/s]"
          ],
          "name": "stderr"
        },
        {
          "output_type": "stream",
          "text": [
            "\n",
            "Test set: Average loss: 0.0703, Accuracy: 9780/10000 (97.80%)\n",
            "\n",
            "EPOCH: 3\n"
          ],
          "name": "stdout"
        },
        {
          "output_type": "stream",
          "text": [
            "Loss=0.20839668810367584 Batch_id=468 Accuracy=97.88: 100%|██████████| 469/469 [00:10<00:00, 42.65it/s]\n",
            "  0%|          | 0/469 [00:00<?, ?it/s]"
          ],
          "name": "stderr"
        },
        {
          "output_type": "stream",
          "text": [
            "\n",
            "Test set: Average loss: 0.0588, Accuracy: 9828/10000 (98.28%)\n",
            "\n",
            "EPOCH: 4\n"
          ],
          "name": "stdout"
        },
        {
          "output_type": "stream",
          "text": [
            "Loss=0.08329158276319504 Batch_id=468 Accuracy=98.27: 100%|██████████| 469/469 [00:11<00:00, 42.29it/s]\n",
            "  0%|          | 0/469 [00:00<?, ?it/s]"
          ],
          "name": "stderr"
        },
        {
          "output_type": "stream",
          "text": [
            "\n",
            "Test set: Average loss: 0.0538, Accuracy: 9834/10000 (98.34%)\n",
            "\n",
            "EPOCH: 5\n"
          ],
          "name": "stdout"
        },
        {
          "output_type": "stream",
          "text": [
            "Loss=0.009046931751072407 Batch_id=468 Accuracy=98.49: 100%|██████████| 469/469 [00:11<00:00, 42.18it/s]\n",
            "  0%|          | 0/469 [00:00<?, ?it/s]"
          ],
          "name": "stderr"
        },
        {
          "output_type": "stream",
          "text": [
            "\n",
            "Test set: Average loss: 0.0430, Accuracy: 9869/10000 (98.69%)\n",
            "\n",
            "EPOCH: 6\n"
          ],
          "name": "stdout"
        },
        {
          "output_type": "stream",
          "text": [
            "Loss=0.01054075825959444 Batch_id=468 Accuracy=98.66: 100%|██████████| 469/469 [00:10<00:00, 44.19it/s]\n",
            "  0%|          | 0/469 [00:00<?, ?it/s]"
          ],
          "name": "stderr"
        },
        {
          "output_type": "stream",
          "text": [
            "\n",
            "Test set: Average loss: 0.0507, Accuracy: 9837/10000 (98.37%)\n",
            "\n",
            "EPOCH: 7\n"
          ],
          "name": "stdout"
        },
        {
          "output_type": "stream",
          "text": [
            "Loss=0.020036237314343452 Batch_id=468 Accuracy=98.80: 100%|██████████| 469/469 [00:10<00:00, 43.94it/s]\n",
            "  0%|          | 0/469 [00:00<?, ?it/s]"
          ],
          "name": "stderr"
        },
        {
          "output_type": "stream",
          "text": [
            "\n",
            "Test set: Average loss: 0.0410, Accuracy: 9872/10000 (98.72%)\n",
            "\n",
            "EPOCH: 8\n"
          ],
          "name": "stdout"
        },
        {
          "output_type": "stream",
          "text": [
            "Loss=0.011549937538802624 Batch_id=468 Accuracy=98.92: 100%|██████████| 469/469 [00:10<00:00, 42.99it/s]\n",
            "  0%|          | 0/469 [00:00<?, ?it/s]"
          ],
          "name": "stderr"
        },
        {
          "output_type": "stream",
          "text": [
            "\n",
            "Test set: Average loss: 0.0371, Accuracy: 9875/10000 (98.75%)\n",
            "\n",
            "EPOCH: 9\n"
          ],
          "name": "stdout"
        },
        {
          "output_type": "stream",
          "text": [
            "Loss=0.04238183796405792 Batch_id=468 Accuracy=98.98: 100%|██████████| 469/469 [00:10<00:00, 43.14it/s]\n",
            "  0%|          | 0/469 [00:00<?, ?it/s]"
          ],
          "name": "stderr"
        },
        {
          "output_type": "stream",
          "text": [
            "\n",
            "Test set: Average loss: 0.0386, Accuracy: 9881/10000 (98.81%)\n",
            "\n",
            "EPOCH: 10\n"
          ],
          "name": "stdout"
        },
        {
          "output_type": "stream",
          "text": [
            "Loss=0.02397274225950241 Batch_id=468 Accuracy=99.02: 100%|██████████| 469/469 [00:11<00:00, 42.54it/s]\n",
            "  0%|          | 0/469 [00:00<?, ?it/s]"
          ],
          "name": "stderr"
        },
        {
          "output_type": "stream",
          "text": [
            "\n",
            "Test set: Average loss: 0.0373, Accuracy: 9874/10000 (98.74%)\n",
            "\n",
            "EPOCH: 11\n"
          ],
          "name": "stdout"
        },
        {
          "output_type": "stream",
          "text": [
            "Loss=0.10879430919885635 Batch_id=468 Accuracy=99.03: 100%|██████████| 469/469 [00:10<00:00, 43.26it/s]\n",
            "  0%|          | 0/469 [00:00<?, ?it/s]"
          ],
          "name": "stderr"
        },
        {
          "output_type": "stream",
          "text": [
            "\n",
            "Test set: Average loss: 0.0349, Accuracy: 9883/10000 (98.83%)\n",
            "\n",
            "EPOCH: 12\n"
          ],
          "name": "stdout"
        },
        {
          "output_type": "stream",
          "text": [
            "Loss=0.007805926725268364 Batch_id=468 Accuracy=99.14: 100%|██████████| 469/469 [00:10<00:00, 42.74it/s]\n",
            "  0%|          | 0/469 [00:00<?, ?it/s]"
          ],
          "name": "stderr"
        },
        {
          "output_type": "stream",
          "text": [
            "\n",
            "Test set: Average loss: 0.0341, Accuracy: 9889/10000 (98.89%)\n",
            "\n",
            "EPOCH: 13\n"
          ],
          "name": "stdout"
        },
        {
          "output_type": "stream",
          "text": [
            "Loss=0.03128267452120781 Batch_id=468 Accuracy=99.23: 100%|██████████| 469/469 [00:10<00:00, 42.84it/s]\n",
            "  0%|          | 0/469 [00:00<?, ?it/s]"
          ],
          "name": "stderr"
        },
        {
          "output_type": "stream",
          "text": [
            "\n",
            "Test set: Average loss: 0.0333, Accuracy: 9897/10000 (98.97%)\n",
            "\n",
            "EPOCH: 14\n"
          ],
          "name": "stdout"
        },
        {
          "output_type": "stream",
          "text": [
            "Loss=0.025175271555781364 Batch_id=468 Accuracy=99.24: 100%|██████████| 469/469 [00:10<00:00, 43.12it/s]\n"
          ],
          "name": "stderr"
        },
        {
          "output_type": "stream",
          "text": [
            "\n",
            "Test set: Average loss: 0.0403, Accuracy: 9877/10000 (98.77%)\n",
            "\n"
          ],
          "name": "stdout"
        },
        {
          "output_type": "display_data",
          "data": {
            "image/png": "[encoded data removed]",
            "text/plain": [
              "<Figure size 1080x720 with 4 Axes>"
            ]
          },
          "metadata": {
            "tags": [],
            "needs_background": "light"
          }
        }
      ]
    },
    {
      "cell_type": "markdown",
      "metadata": {
        "id": "3Ph_C3Os9gLa",
        "colab_type": "text"
      },
      "source": [
        "## Results:\n",
        "\n",
        "<b>Parameters:</b> 6,633\n",
        "\n",
        "<b>Best Train Accuracy:</b> 99.24\n",
        "\n",
        "<b>Best Test Accuracy:</b> 98.97\n",
        "\n",
        "<b>Analysis:</b>\n",
        "After multiple regression, 7,668 parametersgave us traininig accuracy of 99.24 and test accuracy of 98.94 and based on the result we decided to use 6,633 as our target parameters"
      ]
    }
  ]
}